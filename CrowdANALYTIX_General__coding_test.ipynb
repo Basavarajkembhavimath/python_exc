{
  "cells": [
    {
      "cell_type": "markdown",
      "metadata": {
        "id": "view-in-github",
        "colab_type": "text"
      },
      "source": [
        "<a href=\"https://colab.research.google.com/github/Basavarajkembhavimath/python_exc/blob/master/CrowdANALYTIX_General__coding_test.ipynb\" target=\"_parent\"><img src=\"https://colab.research.google.com/assets/colab-badge.svg\" alt=\"Open In Colab\"/></a>"
      ]
    },
    {
      "cell_type": "markdown",
      "metadata": {
        "id": "gHb3B7HCZJ0a"
      },
      "source": [
        "# 1.Read the csv file (interview_scent.csv) into python program and perform the following tasks:\n",
        "- Find the total number of rows in the csv file, ignoring the rows where `prediction` in \"None\".\n",
        "- Find the distinct values in the `prediction` column of csv.\n",
        "- Find the count of each distinct value appearing in the `prediction` column of csv.\n",
        "- Submit the output of above question into csv file.\n",
        "\n"
      ]
    },
    {
      "cell_type": "markdown",
      "source": [
        "## Reading csv file using python default library called CSV"
      ],
      "metadata": {
        "id": "Yi2E3heK9oPd"
      }
    },
    {
      "cell_type": "code",
      "execution_count": 51,
      "metadata": {
        "colab": {
          "base_uri": "https://localhost:8080/"
        },
        "id": "F_8PJYVQ6cP_",
        "outputId": "71e22e7f-0106-493e-e29c-c64f4d81430c"
      },
      "outputs": [
        {
          "output_type": "stream",
          "name": "stdout",
          "text": [
            "True\n",
            "Total number of rows in the csv file which prediction without None is  8469\n",
            "Total number of distinct values in prediction column is :  1729\n"
          ]
        }
      ],
      "source": [
        "from csv import reader, writer\n",
        "with open('/content/drive/MyDrive/interview_scent.csv', 'r') as csvfile:\n",
        "    sample = csvfile.read(64)\n",
        "    has_header = csv.Sniffer().has_header(sample)\n",
        "    print(has_header)\n",
        "\n",
        "    deduced_dialect = csv.Sniffer().sniff(sample)\n",
        "c = 0\n",
        "count_rows = 0\n",
        "distinct_value = {}\n",
        "with open('/content/drive/MyDrive/interview_scent.csv', 'r') as csvfile:\n",
        "    reader = csv.reader(csvfile, deduced_dialect)\n",
        "    copy_of_csv = csv.writer(csvfile)\n",
        "\n",
        "    for row in reader:\n",
        "      if c > 0 :\n",
        "        if row[4] != \"None\":\n",
        "          count_rows += 1\n",
        "        if row[4] not in distinct_value:\n",
        "          distinct_value[row[4]] = 1\n",
        "        else:\n",
        "          distinct_value[row[4]] += 1\n",
        "      c += 1\n",
        "print(\"Total number of rows in the csv file which prediction without None is \", count_rows)\n",
        "print(\"Total number of distinct values in prediction column is : \",len(distinct_value))\n",
        "\n",
        "\n"
      ]
    },
    {
      "cell_type": "markdown",
      "source": [
        "## Copying CSV file for to protect the original csv data"
      ],
      "metadata": {
        "id": "eA5LN2RK-Fhc"
      }
    },
    {
      "cell_type": "code",
      "source": [
        "with open('/content/drive/MyDrive/interview_scent.csv', 'r') as csvfile:\n",
        "  csv_reader = csv.reader(csvfile)\n",
        "  out_csv = open('result.csv', 'w',  encoding='UTF8', newline='')\n",
        "  csv_writer = writer(out_csv)\n",
        "  for row in csv_reader:\n",
        "    csv_writer.writerow(row)"
      ],
      "metadata": {
        "id": "LskGkDIN5NUm"
      },
      "execution_count": 52,
      "outputs": []
    },
    {
      "cell_type": "markdown",
      "source": [
        "## Getting distinct values and storing in to the list"
      ],
      "metadata": {
        "id": "8DjwGJul-XaM"
      }
    },
    {
      "cell_type": "code",
      "execution_count": 53,
      "metadata": {
        "id": "zXc5S5f6BL_t"
      },
      "outputs": [],
      "source": [
        "data = []\n",
        "for i in distinct_value.items():\n",
        "      data.append(['','','','',str(i).strip('(').strip(')'),'',''])\n",
        "  "
      ]
    },
    {
      "cell_type": "markdown",
      "source": [
        "## Creating new CSV file for dumping the new values"
      ],
      "metadata": {
        "id": "qJCk1PoL-jji"
      }
    },
    {
      "cell_type": "code",
      "execution_count": 54,
      "metadata": {
        "id": "sZ5Vc1jMBzX-"
      },
      "outputs": [],
      "source": [
        "with open('new_file.csv', 'w', encoding='UTF8', newline='') as f:\n",
        "    writer = csv.writer(f)\n",
        "    writer.writerows(data)\n",
        "  "
      ]
    },
    {
      "cell_type": "markdown",
      "source": [
        "## Marging both the CSV files in to one "
      ],
      "metadata": {
        "id": "nhomcdZ6-wQI"
      }
    },
    {
      "cell_type": "code",
      "execution_count": 55,
      "metadata": {
        "id": "SBGKs4NWB2jg"
      },
      "outputs": [],
      "source": [
        "file1 = open(\"/content/result.csv\", \"a\")\n",
        "\n",
        "file2 = open(\"new_file.csv\", \"r\")\n",
        "for line in file2:\n",
        "\n",
        "   file1.write(line)\n",
        "\n",
        "\n",
        "\n",
        "file1.close()\n",
        "\n",
        "file2.close()"
      ]
    },
    {
      "cell_type": "markdown",
      "source": [
        "## Reading the newly modified CSV for to veryfi the output"
      ],
      "metadata": {
        "id": "msZuFmCB-9ox"
      }
    },
    {
      "cell_type": "code",
      "execution_count": 57,
      "metadata": {
        "colab": {
          "base_uri": "https://localhost:8080/"
        },
        "id": "aeQbRSI8z2WP",
        "outputId": "dc705702-7a3e-4a48-a97b-5c68189c8c01"
      },
      "outputs": [
        {
          "output_type": "stream",
          "name": "stdout",
          "text": [
            "Total rows in the csv is 51725\n"
          ]
        }
      ],
      "source": [
        "c = 0\n",
        "count_lines = 0\n",
        "with open('/content/result.csv', 'r') as csvfile:\n",
        "    reader = csv.reader(csvfile, deduced_dialect)\n",
        "    for line in reader:\n",
        "      if c > 0:\n",
        "        count_lines += 1\n",
        "      c += 1\n",
        "    print(\"Total rows in the csv is\", count_lines)"
      ]
    },
    {
      "cell_type": "markdown",
      "source": [
        "## Finally we get the output in that new rows are added"
      ],
      "metadata": {
        "id": "djDqAn-1_jFO"
      }
    },
    {
      "cell_type": "code",
      "execution_count": null,
      "metadata": {
        "id": "a7ji0aOoz2B1"
      },
      "outputs": [],
      "source": [
        ""
      ]
    },
    {
      "cell_type": "code",
      "execution_count": null,
      "metadata": {
        "id": "G5EyHel1z182"
      },
      "outputs": [],
      "source": [
        ""
      ]
    },
    {
      "cell_type": "markdown",
      "metadata": {
        "id": "elxxeXxYNuTJ"
      },
      "source": [
        "# 3. Solving Third question"
      ]
    },
    {
      "cell_type": "markdown",
      "metadata": {
        "id": "GE3EDUtYba6H"
      },
      "source": [
        "- Take a number \"N\" from the user and let the user enter a set of numbers exactly equal to N, as \"input_array\", form a list from the given set of array elements.  With that list, write a program to print this list after removing all duplicate values with original order reserved.\n",
        "  - Special Case 1) If any duplicates are found to raise a user-defined Exception and print \"Duplicate Found, Exception Handled\".\n",
        "  - Special Case 2) Make Sure, No Matter What the input user will give make sure The Program Doesn't throw any Runtime Error.\n",
        "\n",
        "  Constraints:  0 < N < 10\n",
        "\n",
        "  Input: \n",
        "    N = 5, input_array = [2,2,3,4,5]\n",
        "\n",
        "  Output:\n",
        "\n",
        "  Duplicate Found, Exception Handled at Index 1\n",
        "\n",
        "  [5,4,3,2]\n"
      ]
    },
    {
      "cell_type": "markdown",
      "source": [
        "## Cod Explination\n",
        "- Asking user to define the list length\n",
        "- Asking user to enter the list items i mean numbers\n",
        "- Validating the user input if it is a int or string or float\n",
        "- Conditinal checking to perform the task.\n"
      ],
      "metadata": {
        "id": "rlwbF9Y2_1Si"
      }
    },
    {
      "cell_type": "code",
      "execution_count": 58,
      "metadata": {
        "id": "JFjc43RH_liI",
        "colab": {
          "base_uri": "https://localhost:8080/"
        },
        "outputId": "da0bb063-cfe1-4b3a-c28e-1cf07ab91a4c"
      },
      "outputs": [
        {
          "output_type": "stream",
          "name": "stdout",
          "text": [
            "Define your list length : 5\n",
            "Please enter the value : \n",
            "Please provide valid input\n",
            "Please enter the value : 4\n",
            "Please enter the value : 2\n",
            "Please enter the value : 1\n",
            "Please enter the value : 1\n",
            "Please enter the value : 3\n",
            "\n",
            "Original_list [4, 2, 1, 1, 3] \n",
            "\n",
            "Duplicate Found, Exception Handled at index 3 \n",
            "\n",
            "Final result : [3, 1, 2, 4] \n",
            "\n"
          ]
        }
      ],
      "source": [
        "result = []                                 # Defining list.\n",
        "val_len = 0\n",
        "\n",
        "def get_input(txt):                         # Getting  input from user.\n",
        "  try:\n",
        "    data = float(input(txt))\n",
        "    return int(data)\n",
        "  except:\n",
        "    print('Please provide valid input')\n",
        "\n",
        "txt  = \"Define your list length : \"\n",
        "txt1 = \"Please enter the value : \"\n",
        "val = get_input(txt)\n",
        "\n",
        "\n",
        "while True:                                # List length validation.\n",
        "  if val is None:\n",
        "    val = get_input(txt)\n",
        "  else:  \n",
        "    if val < 10 and val > 0:\n",
        "      val_len = val\n",
        "      break\n",
        "    else:\n",
        "      print(\"Length should be less then 10 and greater then 0\")\n",
        "      val = get_input(txt)\n",
        "\n",
        "\n",
        "for i in range(val_len):\n",
        "  in_val = get_input(txt1)\n",
        "  while True:                             # User input / List items validation.  \n",
        "    if in_val is None:\n",
        "      in_val = get_input(txt1)\n",
        "    else:\n",
        "      if in_val <= val_len:\n",
        "        result.append(in_val)\n",
        "        break\n",
        "      else:\n",
        "        print(f\"Input should be less then are equal to {val}\")\n",
        "        in_val = get_input(txt1)\n",
        "    \n",
        "# Validate\n",
        "print('\\nOriginal_list', result, '\\n')  # Original inputs given by user \n",
        "final_result = []                       # Defing list for to store the result\n",
        "for i, j in enumerate(result):\n",
        "  if j not in final_result:             # String validation\n",
        "    final_result.append(j)\n",
        "  else:\n",
        "    print(f\"Duplicate Found, Exception Handled at index {i} \")\n",
        "print(\"\\nFinal result :\", final_result[::-1],\"\\n\")   # Modified result\n",
        "\n",
        "#print(\"Sorted result :\", sorted(final_result))"
      ]
    },
    {
      "cell_type": "code",
      "execution_count": null,
      "metadata": {
        "id": "7Yf7X7woVD8s"
      },
      "outputs": [],
      "source": [
        ""
      ]
    },
    {
      "cell_type": "markdown",
      "metadata": {
        "id": "JSkQgpQIWAib"
      },
      "source": [
        "# 2. Write a single generic regular expression which can extract the following patterns, given in (), from given sentences:\n",
        "   \n",
        "   a) Carlisle Farm Specialist F-1 Farm Tire - 12.5L-15 LRF/12 ply (Wheel Not Included)       \n",
        "       (Extract : 12.5L-15 LRF/12)\n",
        "   \n",
        "   b) Evergreen EU72 205/50ZR16 OWL87W RT-5 Truck tire                                        \n",
        "       (Extract : 205/50ZR16 OWL87W)\n",
        "   \n",
        "   c) Goodyear Marathon Trailer Tire w/Galvanized Rim ST215/75R14 LRC (5 Lug On 4.5)          \n",
        "       (Extract : ST215/75R14 )\n",
        "   \n",
        "   d) 1 X New Achilles \\\"ATR Sport\\\" 265/35ZR18 97W XL High Performance Tires 265/35/18       \n",
        "       (Extract : 265/35ZR18 97W XL)\n",
        "   \n",
        "   e) Set of 2 ZEEMAX Heavy Duty All Steel ST235/85R16-14PR TL Trailer Tire - 11073           \n",
        "       (Extract : ST235/85R16-14PR TL)\n",
        "   \n",
        "   f) 1 X New Lexani LXHT-106 LT285/70R17/8 118Q BW All Season Performance SUV Tires \n",
        "       (Extract : LT285/70R17/8 118Q BW)\n",
        "   \n",
        "   g) 1 X New Nankang N889 Mudstar M/T LT245/75R16 120/116N E/10 Ply ROWL Mud Tires MT        \n",
        "        (Extract : LT245/75R16120/116N E/10)\n",
        "   \n",
        "   h) Pirelli Night Dragon Motorcycle Front Tire 130/90-16 2211500                           \n",
        "        (Extract : 130/90-16 )\n",
        "\n"
      ]
    },
    {
      "cell_type": "code",
      "execution_count": 64,
      "metadata": {
        "id": "085fbKPaVDU5"
      },
      "outputs": [],
      "source": [
        "# Importing re model\n",
        "import re"
      ]
    },
    {
      "cell_type": "code",
      "execution_count": 62,
      "metadata": {
        "id": "LJWjXf4Qv3uF"
      },
      "outputs": [],
      "source": [
        "input_data = '''Carlisle Farm Specialist F-1 Farm Tire - 12.5L-15 LRF/12 ply (Wheel \n",
        "Not Included)       \n",
        "Evergreen EU72 205/50ZR16 OWL87W RT-5 Truck tire                                        \n",
        "Goodyear Marathon Trailer Tire w/Galvanized Rim ST215/75R14 LRC (5 Lug On 4.5)          \n",
        "1 X New Achilles \\\"ATR Sport\\\" 265/35ZR18 97W XL High Performance Tires 265/35/18       \n",
        "Set of 2 ZEEMAX Heavy Duty All Steel ST235/85R16-14PR TL Trailer Tire - 11073           \n",
        "1 X New Lexani LXHT-106 LT285/70R17/8 118Q BW All Season Performance SUV Tires          \n",
        "1 X New Nankang N889 Mudstar M/T LT245/75R16 120/116N E/10 Ply ROWL Mud Tires MT        \n",
        "Pirelli Night Dragon Motorcycle Front Tire 130/90-16 2211500'''\n",
        "\n",
        "pattern = re.findall(r'(([A-Z][A-Z]\\d\\d\\d/\\d\\d\\D\\d\\d(.[0-9]......([A-Z].([A-Z]...)?)?)?)|(\\d\\d\\d/\\d\\d\\D\\D?\\d\\d\\s\\b(\\w\\w\\w.\\w[A-Z])?)|(\\d\\d\\.............))', input_data)\n"
      ]
    },
    {
      "cell_type": "markdown",
      "source": [
        "# Complex output"
      ],
      "metadata": {
        "id": "nL9IVGzTC5Oy"
      }
    },
    {
      "cell_type": "code",
      "execution_count": 63,
      "metadata": {
        "id": "A0PEmLtZwaQX",
        "colab": {
          "base_uri": "https://localhost:8080/"
        },
        "outputId": "85aec461-5882-400f-c331-b15539aa8fe5"
      },
      "outputs": [
        {
          "output_type": "execute_result",
          "data": {
            "text/plain": [
              "[('12.5L-15 LRF/12', '', '', '', '', '', '', '12.5L-15 LRF/12'),\n",
              " ('205/50ZR16 OWL87W', '', '', '', '', '205/50ZR16 OWL87W', 'OWL87W', ''),\n",
              " ('ST215/75R14', 'ST215/75R14', '', '', '', '', '', ''),\n",
              " ('265/35ZR18 97W XL', '', '', '', '', '265/35ZR18 97W XL', '97W XL', ''),\n",
              " ('ST235/85R16-14PR TL',\n",
              "  'ST235/85R16-14PR TL',\n",
              "  '-14PR TL',\n",
              "  '',\n",
              "  '',\n",
              "  '',\n",
              "  '',\n",
              "  ''),\n",
              " ('LT285/70R17/8 118Q BW',\n",
              "  'LT285/70R17/8 118Q BW',\n",
              "  '/8 118Q BW',\n",
              "  'BW',\n",
              "  '',\n",
              "  '',\n",
              "  '',\n",
              "  ''),\n",
              " ('LT245/75R16 120/116N E/10',\n",
              "  'LT245/75R16 120/116N E/10',\n",
              "  ' 120/116N E/10',\n",
              "  'N E/10',\n",
              "  'E/10',\n",
              "  '',\n",
              "  '',\n",
              "  ''),\n",
              " ('130/90-16 ', '', '', '', '', '130/90-16 ', '', '')]"
            ]
          },
          "metadata": {},
          "execution_count": 63
        }
      ],
      "source": [
        "pattern"
      ]
    },
    {
      "cell_type": "markdown",
      "source": [
        "# Simplified final output"
      ],
      "metadata": {
        "id": "pH6f2Q1nC_kQ"
      }
    },
    {
      "cell_type": "code",
      "execution_count": 67,
      "metadata": {
        "id": "iHaa7gCzwdDU"
      },
      "outputs": [],
      "source": [
        "final_data = []\n",
        "def get_result(data):\n",
        "  for i in data:\n",
        "    if len(i) != 0:  \n",
        "      final_data.append(i[0])\n",
        "  return final_data"
      ]
    },
    {
      "cell_type": "code",
      "execution_count": 68,
      "metadata": {
        "id": "4ROQIvZfzIPU",
        "colab": {
          "base_uri": "https://localhost:8080/"
        },
        "outputId": "5829c318-f2cb-47a7-8053-3351d58b8392"
      },
      "outputs": [
        {
          "output_type": "execute_result",
          "data": {
            "text/plain": [
              "['12.5L-15 LRF/12',\n",
              " '205/50ZR16 OWL87W',\n",
              " 'ST215/75R14',\n",
              " '265/35ZR18 97W XL',\n",
              " 'ST235/85R16-14PR TL',\n",
              " 'LT285/70R17/8 118Q BW',\n",
              " 'LT245/75R16 120/116N E/10',\n",
              " '130/90-16 ']"
            ]
          },
          "metadata": {},
          "execution_count": 68
        }
      ],
      "source": [
        "get_result(pattern)"
      ]
    },
    {
      "cell_type": "markdown",
      "source": [
        "## Indivisual string output"
      ],
      "metadata": {
        "id": "WRkS2AaWDn6I"
      }
    },
    {
      "cell_type": "code",
      "execution_count": null,
      "metadata": {
        "id": "331v6Z9XCnV5"
      },
      "outputs": [],
      "source": [
        "a = \"Evergreen EU72 205/50ZR16 OWL87W RT-5 Truck tire \"\n",
        "re.findall('(\\d+/\\d+\\w+)|(\\w+\\d+\\w\\ \\w+\\-\\d)', a)"
      ]
    },
    {
      "cell_type": "code",
      "execution_count": null,
      "metadata": {
        "id": "rlFVdYXpEHtS"
      },
      "outputs": [],
      "source": [
        "b = \"Carlisle Farm Specialist F-1 Farm Tire - 12.5L-15 LRF/12 ply (Wheel Not Included)\"\n",
        "re.findall('([A-Z][A-Z]\\d\\d)|(\\d\\d\\.\\d\\w\\-\\d\\d)|(\\w+/\\d\\d)', b)"
      ]
    },
    {
      "cell_type": "code",
      "execution_count": null,
      "metadata": {
        "id": "FNZaniHbKauR"
      },
      "outputs": [],
      "source": [
        "c = \"Goodyear Marathon Trailer Tire w/Galvanized Rim ST215/75R14 LRC (5 Lug On 4.5)\"\n",
        "re.findall(\"\\w+/\\d+\\w+\", c)"
      ]
    },
    {
      "cell_type": "code",
      "execution_count": null,
      "metadata": {
        "id": "fMbr1T_5NFnc"
      },
      "outputs": [],
      "source": [
        "d = '1 X New Achilles \"ATR Sport\" 265/35ZR18 97W XL High Performance Tires '\n",
        "re.findall(\"\\d+/\\d\\w+\\ \\d+\\w+\\ \\w+\",d)"
      ]
    },
    {
      "cell_type": "code",
      "execution_count": null,
      "metadata": {
        "id": "-oExhNRWQldX"
      },
      "outputs": [],
      "source": [
        "e = \" Set of 2 ZEEMAX Heavy Duty All Steel ST235/85R16-14PR TL Trailer Tire - 11073\"\n",
        "re.findall(\"\\w+/\\d+\\w+\\-\\w+\\ \\w+\", e)"
      ]
    },
    {
      "cell_type": "code",
      "execution_count": null,
      "metadata": {
        "id": "EkzdOTD1QF4B"
      },
      "outputs": [],
      "source": [
        "f = \"1 X New Lexani LXHT-106 LT285/70R17/8 118Q BW All Season Performance SUV Tires   \"\n",
        "re.findall(\"\\w+/\\d+\\w+/\\d\\ \\w+\\ \\w+\", f)"
      ]
    },
    {
      "cell_type": "code",
      "execution_count": null,
      "metadata": {
        "id": "VpKTmaU1ULyV"
      },
      "outputs": [],
      "source": [
        "g = \"1 X New Nankang N889 Mudstar M/T LT245/75R16 120/116N E/10 Ply ROWL Mud Tires MT   \"\n",
        "re.findall(\"\\w+/\\d+\\w+\\w+\", g)"
      ]
    },
    {
      "cell_type": "code",
      "execution_count": null,
      "metadata": {
        "id": "-DRwN6uCVtgm"
      },
      "outputs": [],
      "source": [
        "h = \"Pirelli Night Dragon Motorcycle Front Tire 130/90-16 2211500 \"\n",
        "re.findall(\"\\d+/\\d+\\-\\d+\", h)"
      ]
    },
    {
      "cell_type": "code",
      "execution_count": null,
      "metadata": {
        "id": "yAJ0XYy6YnY5"
      },
      "outputs": [],
      "source": [
        ""
      ]
    }
  ],
  "metadata": {
    "colab": {
      "collapsed_sections": [],
      "name": "CrowdANALYTIX_General _coding_test.ipynb",
      "provenance": [],
      "mount_file_id": "1div8UP-QeSMvdy37PFexHapiop0Te8Gv",
      "authorship_tag": "ABX9TyNAyMjvvhmu0NEs1OdTFEdl",
      "include_colab_link": true
    },
    "kernelspec": {
      "display_name": "Python 3",
      "name": "python3"
    },
    "language_info": {
      "name": "python"
    }
  },
  "nbformat": 4,
  "nbformat_minor": 0
}